{
 "cells": [
  {
   "cell_type": "code",
   "execution_count": null,
   "metadata": {},
   "outputs": [],
   "source": [
    "import sys\n",
    "import lmfit, os\n",
    "import numpy as np\n",
    "import pandas as pd\n",
    "from astropy import units\n",
    "import matplotlib.pyplot as plt\n",
    "from scipy.stats import norm\n",
    "from scipy.optimize import minimize\n",
    "from scipy.optimize import least_squares\n",
    "from astropy.timeseries import LombScargle\n",
    "from lightkurve.lightcurve import LightCurve as LC\n",
    "\n",
    "from scripts import *\n",
    "\n",
    "plt.rcParams['font.size'] = 15"
   ]
  },
  {
   "cell_type": "code",
   "execution_count": null,
   "metadata": {},
   "outputs": [],
   "source": [
    "datadir = '/Users/arcticfox/Documents/GitHub/ri-exoplanet-detection/datasets'\n",
    "dat = np.loadtxt(os.path.join(datadir, '51Pegb.txt'),  skiprows=1)"
   ]
  },
  {
   "cell_type": "code",
   "execution_count": null,
   "metadata": {},
   "outputs": [],
   "source": [
    "rvs = RV_Detection(time=dat[:,0], vel=dat[:,1], err=dat[:,2])"
   ]
  },
  {
   "cell_type": "code",
   "execution_count": null,
   "metadata": {},
   "outputs": [],
   "source": [
    "plt.figure(figsize=(14,4))\n",
    "plt.errorbar(rvs.df['Time'], rvs.df['Vel'], yerr=rvs.df['Err'],\n",
    "             marker='o', linestyle='', c='k')\n",
    "plt.xlabel('Time [JD]')\n",
    "plt.ylabel('RV [km/s]');"
   ]
  },
  {
   "cell_type": "code",
   "execution_count": null,
   "metadata": {},
   "outputs": [],
   "source": [
    "rvs = RV_Detection(dat[:,0], dat[:,1], dat[:,2])"
   ]
  },
  {
   "cell_type": "code",
   "execution_count": null,
   "metadata": {},
   "outputs": [],
   "source": [
    "rvs.gls_periodogram()"
   ]
  },
  {
   "cell_type": "code",
   "execution_count": null,
   "metadata": {},
   "outputs": [],
   "source": [
    "rvs.build_confidence_set(minperiod=1.5, maxperiod=20.0)"
   ]
  },
  {
   "cell_type": "code",
   "execution_count": null,
   "metadata": {},
   "outputs": [],
   "source": [
    "plt.figure(figsize=(14,4))\n",
    "plt.plot(1.0/rvs.LS_results[0], rvs.LS_results[1], 'k')\n",
    "_, peak_inds = rvs.get_candidate_periods()\n",
    "plt.plot(1.0/rvs.LS_results[0][peak_inds], \n",
    "         rvs.LS_results[1][peak_inds], 'darkorange', marker='*', ms=10, linestyle='')\n",
    "plt.xlim(1,20)\n",
    "plt.xlabel('Period [days]')\n",
    "plt.ylabel('Power');"
   ]
  },
  {
   "cell_type": "code",
   "execution_count": null,
   "metadata": {},
   "outputs": [],
   "source": [
    "# columns = theta, S_null <= sobs, S_null >= sobs, S_null = sobs\n",
    "rvs.pvals_m"
   ]
  },
  {
   "cell_type": "code",
   "execution_count": null,
   "metadata": {},
   "outputs": [],
   "source": [
    "rvs.cset ## This still isn't working for some reason"
   ]
  },
  {
   "cell_type": "code",
   "execution_count": null,
   "metadata": {},
   "outputs": [],
   "source": [
    "rvs.peak_period"
   ]
  },
  {
   "cell_type": "code",
   "execution_count": null,
   "metadata": {},
   "outputs": [],
   "source": [
    "lk = LC(rvs.df['Time'], rvs.df['Vel'], flux_err=rvs.df['Err'])\n",
    "folded = lk.fold(period=rvs.peak_period)"
   ]
  },
  {
   "cell_type": "code",
   "execution_count": null,
   "metadata": {},
   "outputs": [],
   "source": [
    "plt.figure(figsize=(14,4))\n",
    "plt.errorbar(folded.time.value, folded.flux, yerr=folded.flux_err,\n",
    "             marker='o', c='k', linestyle='')\n",
    "plt.xlabel('Phase')\n",
    "plt.ylabel('RV [km/s]');"
   ]
  },
  {
   "cell_type": "code",
   "execution_count": null,
   "metadata": {},
   "outputs": [],
   "source": [
    "rvs.test_period_theta0(theta0=4.1)"
   ]
  },
  {
   "cell_type": "code",
   "execution_count": null,
   "metadata": {},
   "outputs": [],
   "source": [
    "rvs.S_null, rvs.sobs"
   ]
  },
  {
   "cell_type": "code",
   "execution_count": null,
   "metadata": {},
   "outputs": [],
   "source": []
  }
 ],
 "metadata": {
  "kernelspec": {
   "display_name": "Python 3",
   "language": "python",
   "name": "python3"
  },
  "language_info": {
   "codemirror_mode": {
    "name": "ipython",
    "version": 3
   },
   "file_extension": ".py",
   "mimetype": "text/x-python",
   "name": "python",
   "nbconvert_exporter": "python",
   "pygments_lexer": "ipython3",
   "version": "3.7.3"
  }
 },
 "nbformat": 4,
 "nbformat_minor": 2
}
